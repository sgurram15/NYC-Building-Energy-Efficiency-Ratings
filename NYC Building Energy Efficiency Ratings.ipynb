{
 "cells": [
  {
   "cell_type": "code",
   "execution_count": 1,
   "id": "52b1c675-e330-4c6c-97df-ed1af9fbe449",
   "metadata": {},
   "outputs": [],
   "source": [
    "import pandas as pd\n",
    "import numpy as np\n",
    "import matplotlib.pyplot as plt\n",
    "from sklearn.ensemble import RandomForestClassifier\n",
    "from sklearn.model_selection import train_test_split"
   ]
  },
  {
   "cell_type": "code",
   "execution_count": 3,
   "id": "748085dc-3708-4d19-9506-3ee253a319f5",
   "metadata": {},
   "outputs": [
    {
     "data": {
      "text/html": [
       "<div>\n",
       "<style scoped>\n",
       "    .dataframe tbody tr th:only-of-type {\n",
       "        vertical-align: middle;\n",
       "    }\n",
       "\n",
       "    .dataframe tbody tr th {\n",
       "        vertical-align: top;\n",
       "    }\n",
       "\n",
       "    .dataframe thead th {\n",
       "        text-align: right;\n",
       "    }\n",
       "</style>\n",
       "<table border=\"1\" class=\"dataframe\">\n",
       "  <thead>\n",
       "    <tr style=\"text-align: right;\">\n",
       "      <th></th>\n",
       "      <th>10_Digit_BBL</th>\n",
       "      <th>GeoBuilding</th>\n",
       "      <th>Latitude</th>\n",
       "      <th>Longitude</th>\n",
       "    </tr>\n",
       "  </thead>\n",
       "  <tbody>\n",
       "    <tr>\n",
       "      <th>0</th>\n",
       "      <td>3017620041</td>\n",
       "      <td>{\"type\":\"Feature\",\"geometry\":{\"type\":\"MultiPol...</td>\n",
       "      <td>-73.955008</td>\n",
       "      <td>40.692556</td>\n",
       "    </tr>\n",
       "    <tr>\n",
       "      <th>1</th>\n",
       "      <td>1007017501</td>\n",
       "      <td>NaN</td>\n",
       "      <td>NaN</td>\n",
       "      <td>NaN</td>\n",
       "    </tr>\n",
       "    <tr>\n",
       "      <th>2</th>\n",
       "      <td>3021077502</td>\n",
       "      <td>NaN</td>\n",
       "      <td>NaN</td>\n",
       "      <td>NaN</td>\n",
       "    </tr>\n",
       "    <tr>\n",
       "      <th>3</th>\n",
       "      <td>1000130001</td>\n",
       "      <td>{\"type\":\"Feature\",\"geometry\":{\"type\":\"MultiPol...</td>\n",
       "      <td>-74.014611</td>\n",
       "      <td>40.704959</td>\n",
       "    </tr>\n",
       "    <tr>\n",
       "      <th>4</th>\n",
       "      <td>1000130005</td>\n",
       "      <td>{\"type\":\"Feature\",\"geometry\":{\"type\":\"MultiPol...</td>\n",
       "      <td>-74.014242</td>\n",
       "      <td>40.705379</td>\n",
       "    </tr>\n",
       "  </tbody>\n",
       "</table>\n",
       "</div>"
      ],
      "text/plain": [
       "   10_Digit_BBL                                        GeoBuilding   Latitude  \\\n",
       "0    3017620041  {\"type\":\"Feature\",\"geometry\":{\"type\":\"MultiPol... -73.955008   \n",
       "1    1007017501                                                NaN        NaN   \n",
       "2    3021077502                                                NaN        NaN   \n",
       "3    1000130001  {\"type\":\"Feature\",\"geometry\":{\"type\":\"MultiPol... -74.014611   \n",
       "4    1000130005  {\"type\":\"Feature\",\"geometry\":{\"type\":\"MultiPol... -74.014242   \n",
       "\n",
       "   Longitude  \n",
       "0  40.692556  \n",
       "1        NaN  \n",
       "2        NaN  \n",
       "3  40.704959  \n",
       "4  40.705379  "
      ]
     },
     "execution_count": 3,
     "metadata": {},
     "output_type": "execute_result"
    }
   ],
   "source": [
    "geojson_df =pd.read_csv(\"geojson_lookup_rows.csv\")\n",
    "geojson_df.head()"
   ]
  },
  {
   "cell_type": "code",
   "execution_count": 4,
   "id": "47eab066-03bd-485a-8a74-d3cd3a8e0b48",
   "metadata": {},
   "outputs": [
    {
     "data": {
      "text/html": [
       "<div>\n",
       "<style scoped>\n",
       "    .dataframe tbody tr th:only-of-type {\n",
       "        vertical-align: middle;\n",
       "    }\n",
       "\n",
       "    .dataframe tbody tr th {\n",
       "        vertical-align: top;\n",
       "    }\n",
       "\n",
       "    .dataframe thead th {\n",
       "        text-align: right;\n",
       "    }\n",
       "</style>\n",
       "<table border=\"1\" class=\"dataframe\">\n",
       "  <thead>\n",
       "    <tr style=\"text-align: right;\">\n",
       "      <th></th>\n",
       "      <th>10_Digit_BBL</th>\n",
       "      <th>Street_Number</th>\n",
       "      <th>Street_Name</th>\n",
       "      <th>DOF_Gross_Square_Footage</th>\n",
       "      <th>Energy_Efficiency_Grade</th>\n",
       "      <th>Energy_Star_1-100_Score</th>\n",
       "    </tr>\n",
       "  </thead>\n",
       "  <tbody>\n",
       "    <tr>\n",
       "      <th>0</th>\n",
       "      <td>1007610020</td>\n",
       "      <td>325</td>\n",
       "      <td>WEST 37 STREET</td>\n",
       "      <td>48843</td>\n",
       "      <td>A</td>\n",
       "      <td>100</td>\n",
       "    </tr>\n",
       "    <tr>\n",
       "      <th>1</th>\n",
       "      <td>1007610022</td>\n",
       "      <td>313</td>\n",
       "      <td>WEST 37 STREET</td>\n",
       "      <td>82354</td>\n",
       "      <td>C</td>\n",
       "      <td>62</td>\n",
       "    </tr>\n",
       "    <tr>\n",
       "      <th>2</th>\n",
       "      <td>1007610028</td>\n",
       "      <td>307</td>\n",
       "      <td>WEST 37 STREET</td>\n",
       "      <td>102824</td>\n",
       "      <td>B</td>\n",
       "      <td>79</td>\n",
       "    </tr>\n",
       "    <tr>\n",
       "      <th>3</th>\n",
       "      <td>1007610033</td>\n",
       "      <td>545</td>\n",
       "      <td>8 AVENUE</td>\n",
       "      <td>166874</td>\n",
       "      <td>A</td>\n",
       "      <td>86</td>\n",
       "    </tr>\n",
       "    <tr>\n",
       "      <th>4</th>\n",
       "      <td>1007610037</td>\n",
       "      <td>555</td>\n",
       "      <td>8 AVENUE</td>\n",
       "      <td>162260</td>\n",
       "      <td>A</td>\n",
       "      <td>100</td>\n",
       "    </tr>\n",
       "  </tbody>\n",
       "</table>\n",
       "</div>"
      ],
      "text/plain": [
       "   10_Digit_BBL  Street_Number     Street_Name  DOF_Gross_Square_Footage  \\\n",
       "0    1007610020            325  WEST 37 STREET                     48843   \n",
       "1    1007610022            313  WEST 37 STREET                     82354   \n",
       "2    1007610028            307  WEST 37 STREET                    102824   \n",
       "3    1007610033            545        8 AVENUE                    166874   \n",
       "4    1007610037            555        8 AVENUE                    162260   \n",
       "\n",
       "  Energy_Efficiency_Grade  Energy_Star_1-100_Score  \n",
       "0                       A                      100  \n",
       "1                       C                       62  \n",
       "2                       B                       79  \n",
       "3                       A                       86  \n",
       "4                       A                      100  "
      ]
     },
     "execution_count": 4,
     "metadata": {},
     "output_type": "execute_result"
    }
   ],
   "source": [
    "energy_disclosure_df =pd.read_csv(\"energy_disclosure_2021_rows.csv\")\n",
    "energy_disclosure_df.head()\n"
   ]
  },
  {
   "cell_type": "code",
   "execution_count": 6,
   "id": "ca0a3899-5810-4759-beab-b63a096c8c31",
   "metadata": {},
   "outputs": [
    {
     "data": {
      "text/html": [
       "<div>\n",
       "<style scoped>\n",
       "    .dataframe tbody tr th:only-of-type {\n",
       "        vertical-align: middle;\n",
       "    }\n",
       "\n",
       "    .dataframe tbody tr th {\n",
       "        vertical-align: top;\n",
       "    }\n",
       "\n",
       "    .dataframe thead th {\n",
       "        text-align: right;\n",
       "    }\n",
       "</style>\n",
       "<table border=\"1\" class=\"dataframe\">\n",
       "  <thead>\n",
       "    <tr style=\"text-align: right;\">\n",
       "      <th></th>\n",
       "      <th>10_Digit_BBL</th>\n",
       "      <th>Street_Number</th>\n",
       "      <th>DOF_Gross_Square_Footage</th>\n",
       "      <th>Energy_Star_1-100_Score</th>\n",
       "    </tr>\n",
       "  </thead>\n",
       "  <tbody>\n",
       "    <tr>\n",
       "      <th>count</th>\n",
       "      <td>1.000000e+02</td>\n",
       "      <td>100.000000</td>\n",
       "      <td>1.000000e+02</td>\n",
       "      <td>100.000000</td>\n",
       "    </tr>\n",
       "    <tr>\n",
       "      <th>mean</th>\n",
       "      <td>1.000952e+09</td>\n",
       "      <td>123.230000</td>\n",
       "      <td>5.103363e+05</td>\n",
       "      <td>63.250000</td>\n",
       "    </tr>\n",
       "    <tr>\n",
       "      <th>std</th>\n",
       "      <td>2.232645e+06</td>\n",
       "      <td>137.155508</td>\n",
       "      <td>5.303829e+05</td>\n",
       "      <td>27.262056</td>\n",
       "    </tr>\n",
       "    <tr>\n",
       "      <th>min</th>\n",
       "      <td>1.000050e+09</td>\n",
       "      <td>1.000000</td>\n",
       "      <td>2.548300e+04</td>\n",
       "      <td>1.000000</td>\n",
       "    </tr>\n",
       "    <tr>\n",
       "      <th>25%</th>\n",
       "      <td>1.000160e+09</td>\n",
       "      <td>25.000000</td>\n",
       "      <td>2.171008e+05</td>\n",
       "      <td>43.500000</td>\n",
       "    </tr>\n",
       "    <tr>\n",
       "      <th>50%</th>\n",
       "      <td>1.000220e+09</td>\n",
       "      <td>64.000000</td>\n",
       "      <td>3.611830e+05</td>\n",
       "      <td>75.500000</td>\n",
       "    </tr>\n",
       "    <tr>\n",
       "      <th>75%</th>\n",
       "      <td>1.000290e+09</td>\n",
       "      <td>202.750000</td>\n",
       "      <td>5.844400e+05</td>\n",
       "      <td>83.250000</td>\n",
       "    </tr>\n",
       "    <tr>\n",
       "      <th>max</th>\n",
       "      <td>1.007620e+09</td>\n",
       "      <td>555.000000</td>\n",
       "      <td>3.678000e+06</td>\n",
       "      <td>100.000000</td>\n",
       "    </tr>\n",
       "  </tbody>\n",
       "</table>\n",
       "</div>"
      ],
      "text/plain": [
       "       10_Digit_BBL  Street_Number  DOF_Gross_Square_Footage  \\\n",
       "count  1.000000e+02     100.000000              1.000000e+02   \n",
       "mean   1.000952e+09     123.230000              5.103363e+05   \n",
       "std    2.232645e+06     137.155508              5.303829e+05   \n",
       "min    1.000050e+09       1.000000              2.548300e+04   \n",
       "25%    1.000160e+09      25.000000              2.171008e+05   \n",
       "50%    1.000220e+09      64.000000              3.611830e+05   \n",
       "75%    1.000290e+09     202.750000              5.844400e+05   \n",
       "max    1.007620e+09     555.000000              3.678000e+06   \n",
       "\n",
       "       Energy_Star_1-100_Score  \n",
       "count               100.000000  \n",
       "mean                 63.250000  \n",
       "std                  27.262056  \n",
       "min                   1.000000  \n",
       "25%                  43.500000  \n",
       "50%                  75.500000  \n",
       "75%                  83.250000  \n",
       "max                 100.000000  "
      ]
     },
     "execution_count": 6,
     "metadata": {},
     "output_type": "execute_result"
    }
   ],
   "source": [
    "energy_disclosure_df.describe()"
   ]
  },
  {
   "cell_type": "code",
   "execution_count": 31,
   "id": "b2e6b179-df78-47c6-b392-b7508072e9aa",
   "metadata": {},
   "outputs": [
    {
     "data": {
      "text/plain": [
       "10_Digit_BBL    1008587502\n",
       "GeoBuilding            NaN\n",
       "Latitude               NaN\n",
       "Longitude              NaN\n",
       "Name: 10, dtype: object"
      ]
     },
     "execution_count": 31,
     "metadata": {},
     "output_type": "execute_result"
    }
   ],
   "source": [
    "geojson_df.isna().sum()\n",
    "len(geojson_df)\n",
    "geojson_df.iloc[10]"
   ]
  },
  {
   "cell_type": "code",
   "execution_count": 37,
   "id": "a956c030-14fc-41a7-80c8-4ad6563eecdb",
   "metadata": {},
   "outputs": [
    {
     "data": {
      "text/plain": [
       "100"
      ]
     },
     "execution_count": 37,
     "metadata": {},
     "output_type": "execute_result"
    }
   ],
   "source": [
    "energy_disclosure_df.isna().sum()\n",
    "\n",
    "len(energy_disclosure_df)"
   ]
  },
  {
   "cell_type": "code",
   "execution_count": 40,
   "id": "966baa5f-fc11-4ba9-911c-b562daa62482",
   "metadata": {},
   "outputs": [],
   "source": [
    "merged_df = pd.merge(geojson_df,energy_disclosure_df,how='left', on='10_Digit_BBL')"
   ]
  },
  {
   "cell_type": "code",
   "execution_count": 39,
   "id": "95e2c05e-aa7b-48c0-9fba-23ca34ecfe17",
   "metadata": {},
   "outputs": [
    {
     "data": {
      "text/html": [
       "<div>\n",
       "<style scoped>\n",
       "    .dataframe tbody tr th:only-of-type {\n",
       "        vertical-align: middle;\n",
       "    }\n",
       "\n",
       "    .dataframe tbody tr th {\n",
       "        vertical-align: top;\n",
       "    }\n",
       "\n",
       "    .dataframe thead th {\n",
       "        text-align: right;\n",
       "    }\n",
       "</style>\n",
       "<table border=\"1\" class=\"dataframe\">\n",
       "  <thead>\n",
       "    <tr style=\"text-align: right;\">\n",
       "      <th></th>\n",
       "      <th>10_Digit_BBL</th>\n",
       "      <th>Street_Number</th>\n",
       "      <th>Street_Name</th>\n",
       "      <th>DOF_Gross_Square_Footage</th>\n",
       "      <th>Energy_Efficiency_Grade</th>\n",
       "      <th>Energy_Star_1-100_Score</th>\n",
       "      <th>GeoBuilding</th>\n",
       "      <th>Latitude</th>\n",
       "      <th>Longitude</th>\n",
       "    </tr>\n",
       "  </thead>\n",
       "  <tbody>\n",
       "    <tr>\n",
       "      <th>0</th>\n",
       "      <td>1007610020</td>\n",
       "      <td>325</td>\n",
       "      <td>WEST 37 STREET</td>\n",
       "      <td>48843</td>\n",
       "      <td>A</td>\n",
       "      <td>100</td>\n",
       "      <td>NaN</td>\n",
       "      <td>NaN</td>\n",
       "      <td>NaN</td>\n",
       "    </tr>\n",
       "  </tbody>\n",
       "</table>\n",
       "</div>"
      ],
      "text/plain": [
       "   10_Digit_BBL  Street_Number     Street_Name  DOF_Gross_Square_Footage  \\\n",
       "0    1007610020            325  WEST 37 STREET                     48843   \n",
       "\n",
       "  Energy_Efficiency_Grade  Energy_Star_1-100_Score GeoBuilding  Latitude  \\\n",
       "0                       A                      100         NaN       NaN   \n",
       "\n",
       "   Longitude  \n",
       "0        NaN  "
      ]
     },
     "execution_count": 39,
     "metadata": {},
     "output_type": "execute_result"
    }
   ],
   "source": [
    "merged_df[:1]"
   ]
  },
  {
   "cell_type": "code",
   "execution_count": 41,
   "id": "b4a0382c-bab9-4a72-af5f-fa966f758769",
   "metadata": {},
   "outputs": [
    {
     "data": {
      "text/plain": [
       "100"
      ]
     },
     "execution_count": 41,
     "metadata": {},
     "output_type": "execute_result"
    }
   ],
   "source": [
    "merged_df.columns\n",
    "len(merged_df)"
   ]
  },
  {
   "cell_type": "code",
   "execution_count": 35,
   "id": "9b11c03c-957b-41a9-b421-ce578c95ee61",
   "metadata": {},
   "outputs": [
    {
     "name": "stderr",
     "output_type": "stream",
     "text": [
      "C:\\Users\\skrgu\\AppData\\Local\\Temp\\ipykernel_22792\\3639621574.py:3: FutureWarning: \n",
      "\n",
      "Passing `palette` without assigning `hue` is deprecated and will be removed in v0.14.0. Assign the `x` variable to `hue` and set `legend=False` for the same effect.\n",
      "\n",
      "  sns.countplot(x=\"Energy_Efficiency_Grade\",data = merged_df , palette ='Set2')\n"
     ]
    },
    {
     "data": {
      "image/png": "[encoded data removed]",
      "text/plain": [
       "<Figure size 1000x500 with 1 Axes>"
      ]
     },
     "metadata": {},
     "output_type": "display_data"
    }
   ],
   "source": [
    "import seaborn as sns\n",
    "plt.figure(figsize=(10,5))\n",
    "sns.countplot(x=\"Energy_Efficiency_Grade\",data = merged_df , palette ='Set2')\n",
    "plt.xlabel(\"Energy Efficiency Grade\")\n",
    "plt.ylabel(\"count\")\n",
    "plt.show()"
   ]
  },
  {
   "cell_type": "code",
   "execution_count": 45,
   "id": "44260834-ec9b-4489-90d3-a73a578257c6",
   "metadata": {},
   "outputs": [
    {
     "data": {
      "image/png": "[encoded data removed]",
      "text/plain": [
       "<Figure size 1000x500 with 1 Axes>"
      ]
     },
     "metadata": {},
     "output_type": "display_data"
    }
   ],
   "source": [
    "plt.figure(figsize=(10,5))\n",
    "sns.histplot(x=merged_df [\"Energy_Star_1-100_Score\"],bins=20, kde=True, color='skyblue')\n",
    "plt.xlabel(\"Energy_Star_1-100_Score\")\n",
    "plt.ylabel(\"count\")\n",
    "plt.show()"
   ]
  },
  {
   "cell_type": "code",
   "execution_count": 105,
   "id": "2c919452-a063-4633-b6ae-4e5a18fb273a",
   "metadata": {},
   "outputs": [
    {
     "data": {
      "text/plain": [
       "0     A\n",
       "1     C\n",
       "2     B\n",
       "3     A\n",
       "4     A\n",
       "     ..\n",
       "95    C\n",
       "96    B\n",
       "97    C\n",
       "98    B\n",
       "99    D\n",
       "Name: Energy_Efficiency_Grade, Length: 100, dtype: object"
      ]
     },
     "execution_count": 105,
     "metadata": {},
     "output_type": "execute_result"
    }
   ],
   "source": [
    "from sklearn.preprocessing import OneHotEncoder\n",
    "from sklearn.compose import ColumnTransformer\n",
    "\n",
    "\n",
    "y = energy_disclosure_df['Energy_Efficiency_Grade']\n",
    "\n",
    "\n",
    "X =energy_disclosure_df.drop(columns=['Energy_Efficiency_Grade', 'Street_Name' ,'Energy_Efficiency_Grade','Street_Number','10_Digit_BBL'])\n",
    "X.isna().sum()\n",
    "y"
   ]
  },
  {
   "cell_type": "code",
   "execution_count": 106,
   "id": "d55ef9f0-201e-4294-9094-882a2662d9b5",
   "metadata": {},
   "outputs": [
    {
     "name": "stdout",
     "output_type": "stream",
     "text": [
      "              precision    recall  f1-score   support\n",
      "\n",
      "           A       1.00      1.00      1.00         6\n",
      "           B       1.00      1.00      1.00         7\n",
      "           D       1.00      1.00      1.00         7\n",
      "\n",
      "    accuracy                           1.00        20\n",
      "   macro avg       1.00      1.00      1.00        20\n",
      "weighted avg       1.00      1.00      1.00        20\n",
      "\n",
      "[[6 0 0]\n",
      " [0 7 0]\n",
      " [0 0 7]]\n"
     ]
    },
    {
     "data": {
      "text/html": [
       "<div>\n",
       "<style scoped>\n",
       "    .dataframe tbody tr th:only-of-type {\n",
       "        vertical-align: middle;\n",
       "    }\n",
       "\n",
       "    .dataframe tbody tr th {\n",
       "        vertical-align: top;\n",
       "    }\n",
       "\n",
       "    .dataframe thead th {\n",
       "        text-align: right;\n",
       "    }\n",
       "</style>\n",
       "<table border=\"1\" class=\"dataframe\">\n",
       "  <thead>\n",
       "    <tr style=\"text-align: right;\">\n",
       "      <th></th>\n",
       "      <th>DOF_Gross_Square_Footage</th>\n",
       "      <th>Energy_Star_1-100_Score</th>\n",
       "    </tr>\n",
       "  </thead>\n",
       "  <tbody>\n",
       "    <tr>\n",
       "      <th>83</th>\n",
       "      <td>1007569</td>\n",
       "      <td>80</td>\n",
       "    </tr>\n",
       "    <tr>\n",
       "      <th>53</th>\n",
       "      <td>447452</td>\n",
       "      <td>84</td>\n",
       "    </tr>\n",
       "    <tr>\n",
       "      <th>70</th>\n",
       "      <td>91553</td>\n",
       "      <td>3</td>\n",
       "    </tr>\n",
       "    <tr>\n",
       "      <th>45</th>\n",
       "      <td>287819</td>\n",
       "      <td>96</td>\n",
       "    </tr>\n",
       "    <tr>\n",
       "      <th>44</th>\n",
       "      <td>562340</td>\n",
       "      <td>77</td>\n",
       "    </tr>\n",
       "  </tbody>\n",
       "</table>\n",
       "</div>"
      ],
      "text/plain": [
       "    DOF_Gross_Square_Footage  Energy_Star_1-100_Score\n",
       "83                   1007569                       80\n",
       "53                    447452                       84\n",
       "70                     91553                        3\n",
       "45                    287819                       96\n",
       "44                    562340                       77"
      ]
     },
     "execution_count": 106,
     "metadata": {},
     "output_type": "execute_result"
    }
   ],
   "source": [
    "from sklearn.ensemble import RandomForestClassifier\n",
    "from sklearn.metrics import classification_report, confusion_matrix\n",
    "X_train, X_test, y_train, y_test= train_test_split(X,y ,test_size=0.2 , random_state =42)\n",
    "\n",
    "model = RandomForestClassifier(n_estimators=100, random_state=42)\n",
    "model.fit(X_train, y_train)\n",
    "\n",
    "y_pred = model.predict(X_test)\n",
    "print(classification_report(y_test,y_pred))\n",
    "print(confusion_matrix(y_test,y_pred))\n",
    "\n",
    "X_test.head()"
   ]
  },
  {
   "cell_type": "code",
   "execution_count": 107,
   "id": "7329fb13-1879-4863-beb4-19881c607282",
   "metadata": {},
   "outputs": [],
   "source": [
    "def predict_energy_efficiency_grade(square_footage, energy_star_score):\n",
    "    # Preprocess the input data\n",
    "    new_data = pd.DataFrame({'DOF_Gross_Square_Footage': [square_footage],\n",
    "                             'Energy_Star_1-100_Score': [energy_star_score]})\n",
    "    \n",
    "    # Make predictions\n",
    "    prediction = model.predict(new_data)\n",
    "    \n",
    "    return prediction[0]\n",
    "\n"
   ]
  },
  {
   "cell_type": "code",
   "execution_count": 109,
   "id": "38ba93d7-c266-4eaf-b377-7ad0ed3b39ac",
   "metadata": {},
   "outputs": [
    {
     "name": "stdout",
     "output_type": "stream",
     "text": [
      "Predicted Energy Efficiency Grade: B\n"
     ]
    }
   ],
   "source": [
    "square_footage = 50000\n",
    "energy_star_score = 80\n",
    "predicted_grade = predict_energy_efficiency_grade(square_footage, energy_star_score)\n",
    "print(\"Predicted Energy Efficiency Grade:\", predicted_grade)"
   ]
  },
  {
   "cell_type": "markdown",
   "id": "aae03993-be58-4ec3-b8d0-fbd8e765c215",
   "metadata": {},
   "source": [
    "# "
   ]
  },
  {
   "cell_type": "code",
   "execution_count": null,
   "id": "95622fb6-3fab-4942-ad16-4c8a4858c84e",
   "metadata": {},
   "outputs": [],
   "source": []
  }
 ],
 "metadata": {
  "kernelspec": {
   "display_name": "Python 3 (ipykernel)",
   "language": "python",
   "name": "python3"
  },
  "language_info": {
   "codemirror_mode": {
    "name": "ipython",
    "version": 3
   },
   "file_extension": ".py",
   "mimetype": "text/x-python",
   "name": "python",
   "nbconvert_exporter": "python",
   "pygments_lexer": "ipython3",
   "version": "3.10.13"
  }
 },
 "nbformat": 4,
 "nbformat_minor": 5
}
